{
 "cells": [
  {
   "cell_type": "markdown",
   "metadata": {},
   "source": [
    "# Text Classification - Lab\n",
    "\n",
    "## Introduction\n",
    "\n",
    "In this lab, we'll use everything we've learned so far to build a model that can classify a text document as one of many possible classes!\n",
    "\n",
    "## Objectives\n",
    "\n",
    "You will be able to:\n",
    "\n",
    "* Generate and select appropriate features from a corpus for text classification using NLTK\n",
    "* Preprocess, tokenize, and vectorize a dataset using professional tools such as NLTK and scikit-learn\n",
    "* Demonstrate a working knowledge of best practices for preprocessing a dataset for text classification.\n",
    "\n",
    "\n",
    "# Getting Started\n",
    "\n",
    "For this lab, we'll be working with the classic **_Newsgroups Dataset_**, which is available as a training data set inside of `sklearn.datasets`. This dataset contains many different articles that fall into 1 of 20 possible classes. Our goal will be to build a classifier that can accurately predict the class of an article based on the features we create from the article itself!\n",
    "\n",
    "Let's get started. Run the cell below to import everything we'll need for this lab. "
   ]
  },
  {
   "cell_type": "code",
   "execution_count": 5,
   "metadata": {},
   "outputs": [
    {
     "name": "stderr",
     "output_type": "stream",
     "text": [
      "/opt/conda/envs/learn-env/lib/python3.6/importlib/_bootstrap.py:219: RuntimeWarning: numpy.ufunc size changed, may indicate binary incompatibility. Expected 192 from C header, got 216 from PyObject\n",
      "  return f(*args, **kwds)\n",
      "/opt/conda/envs/learn-env/lib/python3.6/importlib/_bootstrap.py:219: RuntimeWarning: numpy.ufunc size changed, may indicate binary incompatibility. Expected 216, got 192\n",
      "  return f(*args, **kwds)\n",
      "/opt/conda/envs/learn-env/lib/python3.6/importlib/_bootstrap.py:219: RuntimeWarning: numpy.ufunc size changed, may indicate binary incompatibility. Expected 216, got 192\n",
      "  return f(*args, **kwds)\n"
     ]
    }
   ],
   "source": [
    "import nltk\n",
    "from nltk.corpus import stopwords\n",
    "import string\n",
    "from nltk import word_tokenize, FreqDist\n",
    "from sklearn.feature_extraction.text import TfidfVectorizer\n",
    "from sklearn.metrics import accuracy_score\n",
    "from sklearn.datasets import fetch_20newsgroups\n",
    "from sklearn.ensemble import RandomForestClassifier\n",
    "from sklearn.naive_bayes import MultinomialNB\n",
    "import pandas as pd\n",
    "import numpy as np\n",
    "np.random.seed(0)"
   ]
  },
  {
   "cell_type": "markdown",
   "metadata": {},
   "source": [
    "Now, we need to fetch our dataset. Run the cell below to download all the newsgroups articles and their corresponding labels. If this is the first time working with this dataset, scikit-learn will need to download all of the articles from an external repository--the cell below may take a little while to run. \n",
    "\n",
    "The actual dataset is quite large. To save us from extremely long runtimes, we'll work with only a subset of the classes. Here is a list of all the possible classes:\n",
    "\n",
    "<img src='classes.png'>\n",
    "\n",
    "For this lab, we'll only work with the following 5:\n",
    "\n",
    "* `'alt.atheism'`\n",
    "* `'comp.windows.x'`\n",
    "* `'rec.sport.hockey'`\n",
    "* `'sci.crypt'`\n",
    "* `'talk.politics.guns'`\n",
    "\n",
    "In the cell below:\n",
    "\n",
    "* Create a list called `categories` that contains the 5 newsgroups classes listed above, as strings.\n",
    "* Get the training set by calling `fetch_20newsgroups()` and passing in the following parameters:\n",
    "    * `subset='train'`\n",
    "    * `categories=categories`\n",
    "    * `remove=('headers', 'footers', 'quotes')`--this is so that the model can't overfit to metadata included in the articles that sometimes acts as a dead-giveaway as to what class the article belongs to. \n",
    "* Get the testing set as well by passing in the same parameters, with the exception of `subset='test` "
   ]
  },
  {
   "cell_type": "code",
   "execution_count": 6,
   "metadata": {},
   "outputs": [
    {
     "name": "stderr",
     "output_type": "stream",
     "text": [
      "Downloading 20news dataset. This may take a few minutes.\n",
      "Downloading dataset from https://ndownloader.figshare.com/files/5975967 (14 MB)\n"
     ]
    }
   ],
   "source": [
    "categories = ['alt.atheism',\n",
    "              'comp.windows.x',\n",
    "              'rec.sport.hockey',\n",
    "              'sci.crypt',\n",
    "              'talk.politics.guns',]\n",
    "\n",
    "newsgroups_train = fetch_20newsgroups(subset='train',\n",
    "                                      categories=categories,\n",
    "                                      remove=('headers', 'footers', 'quotes'))\n",
    "newsgroups_test = fetch_20newsgroups(subset='test',\n",
    "                                      categories=categories,\n",
    "                                      remove=('headers', 'footers', 'quotes'))"
   ]
  },
  {
   "cell_type": "markdown",
   "metadata": {},
   "source": [
    "Great! Now that we have our data, let's break apart the data and the labels, and then inspect the class names to see what the actual newsgroups are.\n",
    "\n",
    "In the cell below:\n",
    "\n",
    "* Grab the data from `newsgroups_train.data` and store it in the appropriate variable. \n",
    "* Grab the labels from `newsgroups_train.target` and store it in the appropriate variable. \n",
    "* Grab the label names from `newsgroups_train.target_names` and store it in the appropriate variable. \n",
    "* Display the `label_names` so that we can see the different classes of articles that we're working with, and confirm that we grabbed the right ones. "
   ]
  },
  {
   "cell_type": "code",
   "execution_count": 65,
   "metadata": {},
   "outputs": [],
   "source": [
    "data = newsgroups_train.data\n",
    "target = newsgroups_train.target\n",
    "label_names = np.asarray(newsgroups_train.target_names)"
   ]
  },
  {
   "cell_type": "code",
   "execution_count": 8,
   "metadata": {},
   "outputs": [
    {
     "data": {
      "text/plain": [
       "['alt.atheism',\n",
       " 'comp.windows.x',\n",
       " 'rec.sport.hockey',\n",
       " 'sci.crypt',\n",
       " 'talk.politics.guns']"
      ]
     },
     "execution_count": 8,
     "metadata": {},
     "output_type": "execute_result"
    }
   ],
   "source": [
    "label_names"
   ]
  },
  {
   "cell_type": "markdown",
   "metadata": {},
   "source": [
    "Finally, let's check the shape of `data` to see what our data looks like. We can do this by checking the `.shape` attribute of `newsgroups_train.filenames`.\n",
    "\n",
    "Do this now in the cell below."
   ]
  },
  {
   "cell_type": "code",
   "execution_count": 9,
   "metadata": {},
   "outputs": [
    {
     "data": {
      "text/plain": [
       "(2814,)"
      ]
     },
     "execution_count": 9,
     "metadata": {},
     "output_type": "execute_result"
    }
   ],
   "source": [
    "newsgroups_train.filenames.shape"
   ]
  },
  {
   "cell_type": "markdown",
   "metadata": {},
   "source": [
    "Our dataset contains 2,814 different articles spread across the 5 classes we chose. \n",
    "\n",
    "### Cleaning and Preprocessing Our Data\n",
    "\n",
    "Now that we have our data, the fun part begins. We'll need to begin by preprocessing and cleaning our text data. As you've seen throughout this section, preprocessing text data is a bit more challenging that working with more traditional data types because there's no clear-cut answer for exactly what sort of preprocessing and cleaning we need to do. When working with traditional datasets, our goals are generally pretty clear for this stage--normalize and clean our numerical data, convert categorical data to a numeric format, check for and deal with multicollinearity, etc. The steps we take are largely dependent on what the data already looks like when we get a hold of it. Text data is different--if we inspect our dataset, we'll see that it has 1 dimension--the only existing feature in our dataset right now is one that contains all of the actual articles. This means that we need to make some decisions about how to preprocess our data. Before we can begin cleaning and preprocessing our text data, we need to make some decisions about things such as:\n",
    "\n",
    "* Do we remove stop words, or not?\n",
    "* Do we stem or lemmatize our text data, or leave the words as is?\n",
    "* Is basic tokenization enough, or do we need to support special edge cases through the use of regex?\n",
    "* Do we use the entire vocabulary, or just limit the model to a subset of the most frequently used words? If so, how many?\n",
    "* Do we engineer other features, such as bigrams, or POS tags, or Mutual Information Scores?\n",
    "* What sort of vectorization should we use in our model? Boolean Vectorization? Count Vectorization? TF-IDF? More advanced vectorization strategies such as Word2Vec?\n",
    "\n",
    "\n",
    "These are all questions that we'll need to think about pretty much anytime we begin working with text data. \n",
    "\n",
    "Let's get right into it. We'll start by getting a list of all of the english stopwords, and concatenating them with a list of all the punctuation. \n",
    "\n",
    "In the cell below:\n",
    "\n",
    "* Get all the english stopwords from nltk.\n",
    "* Get all of the punctuation from `string.punctuation`, and convert it to a list.\n",
    "* Add the two lists together. Name the result `stopwords_list`.\n",
    "* Create another list containing various types of empty strings and ellipses, such as `[\"''\", '\"\"', '...', '``']`. Add this to our `stopwords_list`, so that we won't have tokens that are only empty quotes and such. "
   ]
  },
  {
   "cell_type": "code",
   "execution_count": 10,
   "metadata": {},
   "outputs": [
    {
     "name": "stderr",
     "output_type": "stream",
     "text": [
      "[nltk_data] Downloading package stopwords to /home/gentle-\n",
      "[nltk_data]     sailor-8400/nltk_data...\n",
      "[nltk_data]   Unzipping corpora/stopwords.zip.\n"
     ]
    },
    {
     "data": {
      "text/plain": [
       "True"
      ]
     },
     "execution_count": 10,
     "metadata": {},
     "output_type": "execute_result"
    }
   ],
   "source": [
    "nltk.download(\"stopwords\")"
   ]
  },
  {
   "cell_type": "code",
   "execution_count": 11,
   "metadata": {},
   "outputs": [],
   "source": [
    "stopwords_list = stopwords.words(\"english\")\n",
    "stopwords_list += string.punctuation\n",
    "stopwords_list += [\"''\", '\"\"', '...', '``']"
   ]
  },
  {
   "cell_type": "markdown",
   "metadata": {},
   "source": [
    "Great! We'll leave these alone for now, until we're ready to remove stop words after the tokenization step. \n",
    "\n",
    "Next, let's try tokenizing our dataset. In order to save ourselves some time, we'll write a function to clean our dataset, and then use python's built-in `map` function to clean every article in the dataset at the same time. \n",
    "\n",
    "In the cell below, complete the `process_article()` function. This function should:\n",
    "\n",
    "* Takes in one parameter, `article`\n",
    "* Tokenize the article using the appropriate function from nltk. \n",
    "* Lowercase every token, remove any stopwords found in `stopwords_list` from the tokenized article, and return the results. "
   ]
  },
  {
   "cell_type": "code",
   "execution_count": 12,
   "metadata": {},
   "outputs": [
    {
     "name": "stderr",
     "output_type": "stream",
     "text": [
      "[nltk_data] Downloading package punkt to /home/gentle-\n",
      "[nltk_data]     sailor-8400/nltk_data...\n",
      "[nltk_data]   Unzipping tokenizers/punkt.zip.\n"
     ]
    },
    {
     "data": {
      "text/plain": [
       "True"
      ]
     },
     "execution_count": 12,
     "metadata": {},
     "output_type": "execute_result"
    }
   ],
   "source": [
    "nltk.download('punkt')"
   ]
  },
  {
   "cell_type": "code",
   "execution_count": 13,
   "metadata": {},
   "outputs": [],
   "source": [
    "def process_article(article):\n",
    "    pattern = \"([a-zA-Z]+(?:'[a-z]+)?)\"\n",
    "    tokens = nltk.regexp_tokenize(article, pattern)\n",
    "    #tokens = nltk.word_tokenize(article)\n",
    "    tokens = [w.lower() for w in tokens]\n",
    "    tokens = list(filter(lambda w: w not in stopwords_list, tokens))\n",
    "    return tokens"
   ]
  },
  {
   "cell_type": "markdown",
   "metadata": {},
   "source": [
    "Now that we have this function, let's go ahead and preprocess our data, and then move into exploring our dataset. \n",
    "\n",
    "In the cell below:\n",
    "\n",
    "* Use python's `map()` function and pass in 2 parameters: the `data`, and the `process_article` function. Make sure to wrap the whole map statement in a `list()`.\n",
    "\n",
    "**_Note:_** Running this cell may take a minute or two!"
   ]
  },
  {
   "cell_type": "code",
   "execution_count": 14,
   "metadata": {},
   "outputs": [
    {
     "data": {
      "text/plain": [
       "['note',\n",
       " 'trial',\n",
       " 'updates',\n",
       " 'summarized',\n",
       " 'reports',\n",
       " 'idaho',\n",
       " 'statesman',\n",
       " 'local',\n",
       " 'nbc',\n",
       " 'affiliate',\n",
       " 'television',\n",
       " 'station',\n",
       " 'ktvb',\n",
       " 'channel',\n",
       " 'randy',\n",
       " 'weaver',\n",
       " 'kevin',\n",
       " 'harris',\n",
       " 'trial',\n",
       " 'update',\n",
       " 'day',\n",
       " 'friday',\n",
       " 'april',\n",
       " 'fourth',\n",
       " 'day',\n",
       " 'trial',\n",
       " 'synopsis',\n",
       " 'defense',\n",
       " 'attorney',\n",
       " 'gerry',\n",
       " 'spence',\n",
       " 'cross',\n",
       " 'examined',\n",
       " 'agent',\n",
       " 'cooper',\n",
       " 'repeated',\n",
       " 'objections',\n",
       " 'prosecutor',\n",
       " 'ronald',\n",
       " 'howen',\n",
       " 'spence',\n",
       " 'moved',\n",
       " 'mistrial',\n",
       " 'denied',\n",
       " 'day',\n",
       " 'marked',\n",
       " 'caustic',\n",
       " 'cross',\n",
       " 'examination',\n",
       " 'deputy',\n",
       " 'marshal',\n",
       " 'larry',\n",
       " 'cooper',\n",
       " 'defense',\n",
       " 'attorney',\n",
       " 'gerry',\n",
       " 'spence',\n",
       " 'although',\n",
       " 'spence',\n",
       " 'explicitly',\n",
       " 'stated',\n",
       " 'one',\n",
       " 'angle',\n",
       " 'stategy',\n",
       " 'must',\n",
       " 'involve',\n",
       " 'destroying',\n",
       " 'credibility',\n",
       " 'agent',\n",
       " 'cooper',\n",
       " 'cooper',\n",
       " \"government's\",\n",
       " 'eyewitness',\n",
       " 'death',\n",
       " 'agent',\n",
       " 'degan',\n",
       " 'spence',\n",
       " 'attacked',\n",
       " \"cooper's\",\n",
       " 'credibility',\n",
       " 'pointing',\n",
       " 'discrepancies',\n",
       " \"cooper's\",\n",
       " 'statements',\n",
       " 'last',\n",
       " 'september',\n",
       " 'made',\n",
       " 'court',\n",
       " 'cooper',\n",
       " 'conceded',\n",
       " 'things',\n",
       " 'compressed',\n",
       " 'seconds',\n",
       " 'difficult',\n",
       " 'remember',\n",
       " 'went',\n",
       " 'first',\n",
       " 'cooper',\n",
       " 'acknowledged',\n",
       " 'carried',\n",
       " 'mm',\n",
       " 'colt',\n",
       " 'commando',\n",
       " 'submachine',\n",
       " 'gun',\n",
       " 'silenced',\n",
       " 'barrel',\n",
       " 'thought',\n",
       " 'colt',\n",
       " 'commando',\n",
       " 'revolver',\n",
       " 'cooper',\n",
       " 'continued',\n",
       " 'stating',\n",
       " 'federal',\n",
       " 'agents',\n",
       " 'specific',\n",
       " 'plans',\n",
       " 'use',\n",
       " 'weapon',\n",
       " 'started',\n",
       " 'kill',\n",
       " \"weaver's\",\n",
       " 'dog',\n",
       " 'spence',\n",
       " 'asked',\n",
       " 'seven',\n",
       " 'cartridges',\n",
       " 'could',\n",
       " 'fired',\n",
       " \"degan's\",\n",
       " 'rifle',\n",
       " 'degan',\n",
       " 'apparently',\n",
       " 'dead',\n",
       " 'cooper',\n",
       " 'could',\n",
       " 'say',\n",
       " 'sure',\n",
       " 'degan',\n",
       " 'return',\n",
       " 'fire',\n",
       " 'going',\n",
       " 'spence',\n",
       " 'continued',\n",
       " 'asking',\n",
       " 'many',\n",
       " 'agents',\n",
       " 'extent',\n",
       " 'cooper',\n",
       " 'discussed',\n",
       " 'last',\n",
       " \"august's\",\n",
       " 'events',\n",
       " 'cooper',\n",
       " 'responded',\n",
       " 'implying',\n",
       " 'got',\n",
       " 'story',\n",
       " 'together',\n",
       " 'wrong',\n",
       " 'counselor',\n",
       " 'spence',\n",
       " 'continued',\n",
       " 'advance',\n",
       " \"defense's\",\n",
       " 'version',\n",
       " 'events',\n",
       " 'namely',\n",
       " 'marshal',\n",
       " 'started',\n",
       " 'shooting',\n",
       " 'killing',\n",
       " \"weaver's\",\n",
       " 'dog',\n",
       " 'cooper',\n",
       " 'disagreed',\n",
       " 'assistant',\n",
       " 'u',\n",
       " 'attorney',\n",
       " 'ronald',\n",
       " 'howen',\n",
       " 'repeatedly',\n",
       " 'objected',\n",
       " \"spence's\",\n",
       " 'virulent',\n",
       " 'cross',\n",
       " 'examination',\n",
       " 'agent',\n",
       " 'cooper',\n",
       " 'arguing',\n",
       " 'questions',\n",
       " 'repetitive',\n",
       " 'spence',\n",
       " 'wasting',\n",
       " 'time',\n",
       " 'howen',\n",
       " 'also',\n",
       " 'complained',\n",
       " 'spence',\n",
       " 'improperly',\n",
       " 'using',\n",
       " 'cross',\n",
       " 'examination',\n",
       " 'advance',\n",
       " \"defense's\",\n",
       " 'version',\n",
       " 'events',\n",
       " 'u',\n",
       " 'district',\n",
       " 'judge',\n",
       " 'edward',\n",
       " 'lodge',\n",
       " 'sustained',\n",
       " 'many',\n",
       " 'objections',\n",
       " 'however',\n",
       " 'lawyers',\n",
       " 'persisted',\n",
       " 'judge',\n",
       " 'lodge',\n",
       " 'jury',\n",
       " 'leave',\n",
       " 'room',\n",
       " 'proceded',\n",
       " 'admonish',\n",
       " 'attorneys',\n",
       " \"i'm\",\n",
       " 'going',\n",
       " 'play',\n",
       " 'games',\n",
       " 'either',\n",
       " 'counsel',\n",
       " 'personality',\n",
       " 'problem',\n",
       " 'day',\n",
       " 'start',\n",
       " 'acting',\n",
       " 'like',\n",
       " 'professionals',\n",
       " 'spence',\n",
       " 'told',\n",
       " 'judge',\n",
       " 'evidence',\n",
       " \"we'll\",\n",
       " 'see',\n",
       " 'agent',\n",
       " 'larry',\n",
       " 'cooper',\n",
       " 'testimony',\n",
       " 'credible',\n",
       " 'panicked',\n",
       " 'cannot',\n",
       " 'remember',\n",
       " 'sequence',\n",
       " 'events',\n",
       " 'spence',\n",
       " 'continued',\n",
       " \"we're\",\n",
       " 'going',\n",
       " 'find',\n",
       " 'unlikely',\n",
       " 'similarity',\n",
       " 'almost',\n",
       " 'come',\n",
       " 'cookie',\n",
       " 'cutter',\n",
       " 'testimony',\n",
       " 'mr',\n",
       " 'cooper',\n",
       " 'witnesses',\n",
       " 'spence',\n",
       " 'moved',\n",
       " 'mistrial',\n",
       " 'grounds',\n",
       " \"howen's\",\n",
       " 'repeated',\n",
       " 'objections',\n",
       " 'would',\n",
       " 'prevent',\n",
       " 'fair',\n",
       " 'trial',\n",
       " \"can't\",\n",
       " 'fair',\n",
       " 'trial',\n",
       " 'jury',\n",
       " 'believes',\n",
       " \"i'm\",\n",
       " 'sort',\n",
       " 'charlatan',\n",
       " 'jury',\n",
       " 'believes',\n",
       " \"i'm\",\n",
       " 'bending',\n",
       " 'rules',\n",
       " 'engaging',\n",
       " 'delaying',\n",
       " 'tactic',\n",
       " \"i'm\",\n",
       " 'violating',\n",
       " 'court',\n",
       " 'orders',\n",
       " 'judge',\n",
       " 'lodge',\n",
       " 'called',\n",
       " 'notion',\n",
       " 'repeated',\n",
       " 'sustainings',\n",
       " \"howen's\",\n",
       " 'objections',\n",
       " 'somehow',\n",
       " 'prejudiced',\n",
       " 'jury',\n",
       " 'preposterous',\n",
       " 'denied',\n",
       " 'motion',\n",
       " 'mistrial',\n",
       " 'lodge',\n",
       " 'tell',\n",
       " 'howen',\n",
       " 'restrict',\n",
       " 'comments',\n",
       " 'objecting',\n",
       " 'trial',\n",
       " 'resumed',\n",
       " 'prosecution',\n",
       " 'calling',\n",
       " 'fbi',\n",
       " 'special',\n",
       " 'agent',\n",
       " 'greg',\n",
       " 'rampton',\n",
       " \"prosecution's\",\n",
       " 'purpose',\n",
       " 'simply',\n",
       " 'introduce',\n",
       " 'five',\n",
       " 'weapons',\n",
       " 'found',\n",
       " 'cabin',\n",
       " 'evidence',\n",
       " 'however',\n",
       " 'defense',\n",
       " 'seized',\n",
       " 'opportunity',\n",
       " 'address',\n",
       " \"cooper's\",\n",
       " 'credibility',\n",
       " 'defense',\n",
       " 'attorney',\n",
       " 'ellison',\n",
       " 'matthews',\n",
       " 'harris',\n",
       " 'attorney',\n",
       " 'questioned',\n",
       " 'rampton',\n",
       " 'dog',\n",
       " 'rampton',\n",
       " 'stated',\n",
       " 'specific',\n",
       " 'plans',\n",
       " 'kill',\n",
       " \"weaver's\",\n",
       " 'dog',\n",
       " 'without',\n",
       " 'detected',\n",
       " 'matthews',\n",
       " 'rampton',\n",
       " 'read',\n",
       " 'septtember',\n",
       " 'transcript',\n",
       " 'rampton',\n",
       " 'said',\n",
       " 'cooper',\n",
       " 'said',\n",
       " 'purpose',\n",
       " 'silenced',\n",
       " 'weapon',\n",
       " 'kill',\n",
       " 'dog',\n",
       " 'without',\n",
       " 'detected',\n",
       " 'dog',\n",
       " 'chased',\n",
       " 'rampton',\n",
       " 'acknowledged',\n",
       " 'believed',\n",
       " 'cooper',\n",
       " 'said',\n",
       " 'could',\n",
       " 'remember',\n",
       " 'stated',\n",
       " 'conduct',\n",
       " 'primary',\n",
       " 'interview',\n",
       " 'deputy',\n",
       " 'cooper',\n",
       " 'conversations',\n",
       " 'since',\n",
       " 'interview',\n",
       " 'conducted']"
      ]
     },
     "execution_count": 14,
     "metadata": {},
     "output_type": "execute_result"
    }
   ],
   "source": [
    "test_str = data[0]\n",
    "process_article(test_str)"
   ]
  },
  {
   "cell_type": "code",
   "execution_count": 15,
   "metadata": {},
   "outputs": [],
   "source": [
    "processed_data = list(map(process_article,data))"
   ]
  },
  {
   "cell_type": "markdown",
   "metadata": {},
   "source": [
    "Great. Now, let's inspect the first article inside of `processed_data` to see how it looks. \n",
    "\n",
    "Do this now in the cell below."
   ]
  },
  {
   "cell_type": "markdown",
   "metadata": {},
   "source": [
    "Now, let's move onto exploring the dataset a bit more. Let's start by getting the total vocabulary size of the training dataset. We can do this by creating a `set` object and then using it's `.update()` method to iteratively add each article. Since it's a set, it will only contain unique words, with no duplicates. \n",
    "\n",
    "In the cell below:\n",
    "\n",
    "* Create a `set` object called `total_vocab`.\n",
    "* Iterate through each tokenized article in `processed_data` and add it to the set using the set's `.update()` method.\n",
    "* Once all articles have been added, get the total number of unique words in our training set by taking the length of the set."
   ]
  },
  {
   "cell_type": "code",
   "execution_count": 16,
   "metadata": {},
   "outputs": [
    {
     "data": {
      "text/plain": [
       "30697"
      ]
     },
     "execution_count": 16,
     "metadata": {},
     "output_type": "execute_result"
    }
   ],
   "source": [
    "total_vocab = set()\n",
    "for article in processed_data:\n",
    "    total_vocab.update(article)\n",
    "len(total_vocab)"
   ]
  },
  {
   "cell_type": "markdown",
   "metadata": {},
   "source": [
    "### Exploring Data With Frequency Distributions\n",
    "\n",
    "Great--our processed dataset contains 47,166 unique words! \n",
    "\n",
    "Next, let's create a Frequency Distribution to see which words are used the most! \n",
    "\n",
    "In order to do this, we'll need to concatenate every article into a single list, and then pass this list into a `FreqDist()` object. \n",
    "\n",
    "In the cell below:\n",
    "\n",
    "* Create an empty list called `articles_concat`\n",
    "* Iterate through `processed_data` and add every article it contains to `articles_concat`\n",
    "* Create a `FreqDist` object and pass in `articles_concat` as the input. \n",
    "* Display the top 200 most used words. "
   ]
  },
  {
   "cell_type": "code",
   "execution_count": 17,
   "metadata": {},
   "outputs": [],
   "source": [
    "articles_concat = []\n",
    "for art in processed_data:\n",
    "    articles_concat += art"
   ]
  },
  {
   "cell_type": "code",
   "execution_count": 18,
   "metadata": {},
   "outputs": [
    {
     "data": {
      "text/plain": [
       "[('x', 6062),\n",
       " ('would', 1852),\n",
       " ('one', 1804),\n",
       " ('people', 1220),\n",
       " ('use', 1157),\n",
       " ('r', 1124),\n",
       " ('get', 1105),\n",
       " ('b', 1084),\n",
       " ('like', 1067),\n",
       " ('file', 1047),\n",
       " ('key', 1032),\n",
       " ('c', 1017),\n",
       " ('n', 1005),\n",
       " ('also', 880),\n",
       " ('time', 855),\n",
       " ('e', 832),\n",
       " ('know', 825),\n",
       " ('think', 820),\n",
       " ('edu', 789),\n",
       " ('could', 771),\n",
       " ('well', 738),\n",
       " ('may', 736),\n",
       " ('new', 728),\n",
       " ('even', 712),\n",
       " ('first', 697),\n",
       " ('system', 688),\n",
       " ('two', 660),\n",
       " ('information', 653),\n",
       " ('right', 651),\n",
       " ('make', 649),\n",
       " ('many', 640),\n",
       " ('see', 639),\n",
       " ('gun', 622),\n",
       " ('good', 620),\n",
       " ('p', 607),\n",
       " ('used', 605),\n",
       " ('way', 597),\n",
       " ('window', 592),\n",
       " (\"i'm\", 586),\n",
       " ('u', 584),\n",
       " ('government', 582),\n",
       " ('available', 574),\n",
       " ('program', 556),\n",
       " ('k', 555),\n",
       " ('db', 555),\n",
       " ('com', 548),\n",
       " ('encryption', 546),\n",
       " ('much', 546),\n",
       " ('law', 542),\n",
       " ('us', 535),\n",
       " ('using', 528),\n",
       " ('number', 528),\n",
       " ('say', 526),\n",
       " ('g', 515),\n",
       " ('must', 486),\n",
       " ('public', 480),\n",
       " ('team', 475),\n",
       " ('z', 464),\n",
       " ('game', 454),\n",
       " ('server', 451),\n",
       " ('year', 451),\n",
       " ('since', 449),\n",
       " ('chip', 446),\n",
       " ('need', 445),\n",
       " ('something', 435),\n",
       " ('w', 432),\n",
       " ('want', 422),\n",
       " ('h', 421),\n",
       " ('f', 418),\n",
       " ('output', 416),\n",
       " ('list', 414),\n",
       " ('set', 414),\n",
       " ('read', 413),\n",
       " ('god', 410),\n",
       " ('point', 403),\n",
       " ('l', 403),\n",
       " ('line', 402),\n",
       " ('j', 401),\n",
       " ('find', 395),\n",
       " ('name', 392),\n",
       " ('data', 389),\n",
       " ('clipper', 388),\n",
       " ('please', 386),\n",
       " ('without', 384),\n",
       " ('really', 384),\n",
       " ('might', 384),\n",
       " ('bit', 383),\n",
       " ('go', 383),\n",
       " ('mail', 383),\n",
       " ('play', 382),\n",
       " ('keys', 382),\n",
       " ('take', 382),\n",
       " ('believe', 382),\n",
       " ('q', 380),\n",
       " ('second', 380),\n",
       " ('said', 379),\n",
       " ('version', 378),\n",
       " ('code', 377),\n",
       " ('work', 375),\n",
       " ('entry', 374),\n",
       " ('last', 370),\n",
       " ('anyone', 369),\n",
       " ('hockey', 366),\n",
       " ('part', 365),\n",
       " ('another', 362),\n",
       " ('back', 362),\n",
       " ('example', 360),\n",
       " ('case', 359),\n",
       " ('security', 358),\n",
       " ('problem', 357),\n",
       " ('motif', 357),\n",
       " (\"can't\", 355),\n",
       " ('made', 353),\n",
       " ('things', 353),\n",
       " ('privacy', 353),\n",
       " ('v', 352),\n",
       " ('widget', 349),\n",
       " ('sure', 345),\n",
       " ('still', 345),\n",
       " ('however', 344),\n",
       " ('ftp', 341),\n",
       " ('state', 339),\n",
       " ('better', 334),\n",
       " ('based', 330),\n",
       " ('subject', 326),\n",
       " ('going', 325),\n",
       " ('probably', 324),\n",
       " ('question', 323),\n",
       " ('long', 322),\n",
       " ('period', 319),\n",
       " ('course', 313),\n",
       " ('anonymous', 313),\n",
       " ('season', 312),\n",
       " ('control', 310),\n",
       " ('look', 310),\n",
       " ('years', 305),\n",
       " ('true', 302),\n",
       " ('files', 302),\n",
       " ('etc', 300),\n",
       " ('pub', 299),\n",
       " ('win', 298),\n",
       " ('guns', 297),\n",
       " ('fact', 297),\n",
       " ('got', 296),\n",
       " ('every', 294),\n",
       " ('source', 294),\n",
       " ('sun', 294),\n",
       " ('run', 292),\n",
       " ('application', 291),\n",
       " ('end', 290),\n",
       " ('best', 289),\n",
       " ('message', 288),\n",
       " ('mit', 288),\n",
       " ('help', 286),\n",
       " (\"i've\", 285),\n",
       " ('possible', 284),\n",
       " ('send', 284),\n",
       " ('never', 284),\n",
       " ('email', 281),\n",
       " ('open', 281),\n",
       " ('games', 278),\n",
       " ('thing', 278),\n",
       " ('someone', 277),\n",
       " ('following', 276),\n",
       " ('general', 273),\n",
       " ('try', 273),\n",
       " ('non', 273),\n",
       " (\"that's\", 270),\n",
       " ('either', 269),\n",
       " ('rather', 268),\n",
       " ('several', 266),\n",
       " ('actually', 266),\n",
       " ('means', 266),\n",
       " ('note', 265),\n",
       " ('little', 265),\n",
       " ('cs', 265),\n",
       " ('give', 265),\n",
       " ('thanks', 264),\n",
       " ('put', 264),\n",
       " ('different', 263),\n",
       " ('keep', 262),\n",
       " ('group', 260),\n",
       " ('call', 260),\n",
       " ('display', 260),\n",
       " ('enough', 259),\n",
       " ('far', 259),\n",
       " ('come', 258),\n",
       " ('info', 258),\n",
       " ('given', 256),\n",
       " ('next', 255),\n",
       " ('st', 255),\n",
       " ('order', 255),\n",
       " ('around', 254),\n",
       " ('seems', 253),\n",
       " ('news', 252),\n",
       " ('least', 251),\n",
       " ('anything', 251),\n",
       " ('real', 248),\n",
       " ('support', 247),\n",
       " ('power', 245)]"
      ]
     },
     "execution_count": 18,
     "metadata": {},
     "output_type": "execute_result"
    }
   ],
   "source": [
    "articles_freqdist = FreqDist(articles_concat)\n",
    "articles_freqdist.most_common(200)"
   ]
  },
  {
   "cell_type": "markdown",
   "metadata": {},
   "source": [
    "At first glance, none of these words seem very informative--for most of the words represented here, it would be tough to guess if a given word is used equally among all 5 classes, or is disproportionately represented among a single class. This makes sense, because this frequency distribution  represents all the classes combined. This tells us that these words probably the least important, as they are most likely words that are used across multiple classes, thereby providing our model with little actual signal as to what class they belong to. This tells us that we probably want to focus on words that appear heavily in articles from a given class, but rarely appear in articles from other classes. You may recall from previous sections that this is exactly where **_TF-IDF Vectorization_** really shines!\n",
    "\n",
    "### Vectorizing with TF-IDF\n",
    "\n",
    "Although NLTK does provide functionality for vectorizing text documents with TF-IDF, we'll make use of scikit-learn's TF-IDF vectorizer, because we already have experience with it, and because it's a bit easier to use, especially when the models we'll be feeding the vectorized data into are from scikit-learn, meaning that we don't have to worry about doing any extra processing to ensure they play nicely together. \n",
    "\n",
    "Recall that in order to use scikit-learn's `TfidfVectorizer`, we need to pass in the data as raw text documents--the `TfidfVectorizer` handles the Count Vectorization process on it's own, and then fits and transforms the data into TF-IDF format. \n",
    "\n",
    "This means that we need to:\n",
    "\n",
    "* Import `TfidfVectorizer` from `sklearn.feature_extraction.text` and instantiate a `TfidfVectorizer` object\n",
    "* Call the vectorizer object's `fit_transform()` method and pass in our `data` as input. Store the results in `tf_idf_data_train`.\n",
    "* Also create a vectorized version of our testing data, which can be found in `newsgroups_test.data`. Store the results in `tf_idf_data_test`. \n",
    "\n",
    "\n",
    "**_NOTE:_** When transforming the test data, use the `.transform()` method, not the `.fit_transform()` method, as the vectorizer has already been fit to the training data. "
   ]
  },
  {
   "cell_type": "code",
   "execution_count": 36,
   "metadata": {},
   "outputs": [],
   "source": [
    "from sklearn.feature_extraction.text import TfidfVectorizer"
   ]
  },
  {
   "cell_type": "code",
   "execution_count": 37,
   "metadata": {},
   "outputs": [],
   "source": [
    "vectorizer = TfidfVectorizer()"
   ]
  },
  {
   "cell_type": "code",
   "execution_count": 38,
   "metadata": {},
   "outputs": [],
   "source": [
    "tf_idf_data_train = vectorizer.fit_transform(data)"
   ]
  },
  {
   "cell_type": "code",
   "execution_count": 39,
   "metadata": {},
   "outputs": [],
   "source": [
    "tf_idf_data_test = vectorizer.transform(newsgroups_test.data)"
   ]
  },
  {
   "cell_type": "markdown",
   "metadata": {},
   "source": [
    "### Modeling Our Data\n",
    "\n",
    "Great! We've now preprocessed and explored our dataset, let's take a second to see what our data looks like in vectorized form. \n",
    "\n",
    "In the cell below, get the shape of `tf_idf_data`."
   ]
  },
  {
   "cell_type": "code",
   "execution_count": 40,
   "metadata": {},
   "outputs": [
    {
     "data": {
      "text/plain": [
       "(2814, 36622)"
      ]
     },
     "execution_count": 40,
     "metadata": {},
     "output_type": "execute_result"
    }
   ],
   "source": [
    "tf_idf_data_train.shape"
   ]
  },
  {
   "cell_type": "markdown",
   "metadata": {},
   "source": [
    "Our vectorized data contains 2,814 articles, with 36,622 unique words in the vocabulary. However, the vast majority of these columns for any given article will be zero, since every article only contains a small subset of the total vocabulary. Recall that vectors mostly filled with zeros are referred to as **_Sparse Vectors_**. These are extremely common when working with text data. \n",
    "\n",
    "Let's check out the average number of non-zero columns in the vectors. Run the cell below to calculate this average. "
   ]
  },
  {
   "cell_type": "code",
   "execution_count": 41,
   "metadata": {},
   "outputs": [
    {
     "name": "stdout",
     "output_type": "stream",
     "text": [
      "Average Number of Non-Zero Elements in Vectorized Articles: 107.28038379530916\n",
      "Percentage of columns containing 0: 0.9970706028126451\n"
     ]
    }
   ],
   "source": [
    "non_zero_cols = tf_idf_data_train.nnz / float(tf_idf_data_train.shape[0])\n",
    "print(\"Average Number of Non-Zero Elements in Vectorized Articles: {}\".format(non_zero_cols))\n",
    "\n",
    "percent_sparse = 1 - (non_zero_cols / float(tf_idf_data_train.shape[1]))\n",
    "print('Percentage of columns containing 0: {}'.format(percent_sparse))"
   ]
  },
  {
   "cell_type": "markdown",
   "metadata": {},
   "source": [
    "As we can see from the output above, the average vectorized article contains 107 non-zero columns. This means that 99.7% of each vector is actually zeroes! This is one reason why it's best not to create your own vectorizers, and rely on professional packages such as scikit-learn and NLTK instead--they contain many speed and memory optimizations specifically for dealing with sparse vectors. This way, we aren't wasting a giant chunk of memory on a vectorized dataset that only has valid information in 0.3% of it. \n",
    "\n",
    "Now that we've vectorized our dataset, let's create some models and fit them to our vectorized training data. \n",
    "\n",
    "In the cell below:\n",
    "\n",
    "* Create a `MultinomialNB` and `RandomForestClassifier`. For the Random Forest, set `n_estimators` to `100`. Don't worry about tweaking any of the other parameters. \n",
    "* Fit each to our vectorized training data.\n",
    "* Create predictions for our training and testing sets\n",
    "* Calculate the `accuracy_score` for both the training and testing sets (you'll find our training labels stored within the variable `target`, and the testing labels stored within `newsgroups_test.target`)"
   ]
  },
  {
   "cell_type": "code",
   "execution_count": 42,
   "metadata": {},
   "outputs": [],
   "source": [
    "from sklearn.ensemble import RandomForestClassifier\n",
    "from sklearn.naive_bayes import MultinomialNB"
   ]
  },
  {
   "cell_type": "code",
   "execution_count": 43,
   "metadata": {},
   "outputs": [
    {
     "name": "stderr",
     "output_type": "stream",
     "text": [
      "/opt/conda/envs/learn-env/lib/python3.6/site-packages/sklearn/ensemble/forest.py:246: FutureWarning: The default value of n_estimators will change from 10 in version 0.20 to 100 in 0.22.\n",
      "  \"10 in version 0.20 to 100 in 0.22.\", FutureWarning)\n"
     ]
    }
   ],
   "source": [
    "nb_classifier = MultinomialNB().fit(tf_idf_data_train,target)\n",
    "rf_classifier = RandomForestClassifier().fit(tf_idf_data_train,target)"
   ]
  },
  {
   "cell_type": "code",
   "execution_count": 44,
   "metadata": {},
   "outputs": [],
   "source": [
    "nb_train_preds = nb_classifier.predict(tf_idf_data_train)\n",
    "nb_test_preds = nb_classifier.predict(tf_idf_data_test)"
   ]
  },
  {
   "cell_type": "code",
   "execution_count": 47,
   "metadata": {},
   "outputs": [],
   "source": [
    "\n",
    "rf_train_preds = rf_classifier.predict(tf_idf_data_train)\n",
    "rf_test_preds = rf_classifier.predict(tf_idf_data_test)"
   ]
  },
  {
   "cell_type": "code",
   "execution_count": 48,
   "metadata": {},
   "outputs": [
    {
     "name": "stdout",
     "output_type": "stream",
     "text": [
      "Multinomial Naive Bayes\n",
      "Training Accuracy: 0.9531 \t\t Testing Accuracy: 0.8126\n",
      "\n",
      "----------------------------------------------------------------------\n",
      "\n",
      "Random Forest\n",
      "Training Accuracy: 0.9794 \t\t Testing Accuracy: 0.6866\n"
     ]
    }
   ],
   "source": [
    "nb_train_score = accuracy_score(nb_train_preds, target)\n",
    "nb_test_score = accuracy_score(nb_test_preds, newsgroups_test.target)\n",
    "rf_train_score = accuracy_score(rf_train_preds, target)\n",
    "rf_test_score = accuracy_score(rf_test_preds, newsgroups_test.target)\n",
    "\n",
    "print(\"Multinomial Naive Bayes\")\n",
    "print(\"Training Accuracy: {:.4} \\t\\t Testing Accuracy: {:.4}\".format(nb_train_score, nb_test_score))\n",
    "print(\"\")\n",
    "print('-'*70)\n",
    "print(\"\")\n",
    "print('Random Forest')\n",
    "print(\"Training Accuracy: {:.4} \\t\\t Testing Accuracy: {:.4}\".format(rf_train_score, rf_test_score))"
   ]
  },
  {
   "cell_type": "code",
   "execution_count": 52,
   "metadata": {},
   "outputs": [],
   "source": [
    "import sklearn"
   ]
  },
  {
   "cell_type": "code",
   "execution_count": 59,
   "metadata": {},
   "outputs": [],
   "source": [
    "import matplotlib.pyplot as plt\n",
    "from sklearn.metrics import confusion_matrix\n",
    "from sklearn.utils.multiclass import unique_labels\n",
    "\n",
    "def plot_confusion_matrix(y_true, y_pred, classes,\n",
    "                          normalize=False,\n",
    "                          title=None,\n",
    "                          cmap=plt.cm.Blues):\n",
    "    \"\"\"\n",
    "    This function prints and plots the confusion matrix.\n",
    "    Normalization can be applied by setting `normalize=True`.\n",
    "    \"\"\"\n",
    "    if not title:\n",
    "        if normalize:\n",
    "            title = 'Normalized confusion matrix'\n",
    "        else:\n",
    "            title = 'Confusion matrix, without normalization'\n",
    "\n",
    "    # Compute confusion matrix\n",
    "    cm = confusion_matrix(y_true, y_pred)\n",
    "    # Only use the labels that appear in the data\n",
    "    classes = classes[unique_labels(y_true, y_pred)]\n",
    "    if normalize:\n",
    "        cm = cm.astype('float') / cm.sum(axis=1)[:, np.newaxis]\n",
    "        print(\"Normalized confusion matrix\")\n",
    "    else:\n",
    "        print('Confusion matrix, without normalization')\n",
    "\n",
    "    print(cm)\n",
    "\n",
    "    fig, ax = plt.subplots()\n",
    "    im = ax.imshow(cm, interpolation='nearest', cmap=cmap)\n",
    "    ax.figure.colorbar(im, ax=ax)\n",
    "    # We want to show all ticks...\n",
    "    ax.set(xticks=np.arange(cm.shape[1]),\n",
    "           yticks=np.arange(cm.shape[0]),\n",
    "           # ... and label them with the respective list entries\n",
    "           xticklabels=classes, yticklabels=classes,\n",
    "           title=title,\n",
    "           ylabel='True label',\n",
    "           xlabel='Predicted label')\n",
    "\n",
    "    # Rotate the tick labels and set their alignment.\n",
    "    plt.setp(ax.get_xticklabels(), rotation=45, ha=\"right\",\n",
    "             rotation_mode=\"anchor\")\n",
    "\n",
    "    # Loop over data dimensions and create text annotations.\n",
    "    fmt = '.2f' if normalize else 'd'\n",
    "    thresh = cm.max() / 2.\n",
    "    for i in range(cm.shape[0]):\n",
    "        for j in range(cm.shape[1]):\n",
    "            ax.text(j, i, format(cm[i, j], fmt),\n",
    "                    ha=\"center\", va=\"center\",\n",
    "                    color=\"white\" if cm[i, j] > thresh else \"black\")\n",
    "    fig.tight_layout()\n",
    "    return ax\n"
   ]
  },
  {
   "cell_type": "code",
   "execution_count": 67,
   "metadata": {},
   "outputs": [
    {
     "name": "stdout",
     "output_type": "stream",
     "text": [
      "Confusion matrix, without normalization\n",
      "[[169   7  19  85  39]\n",
      " [  0 348   7  38   2]\n",
      " [  0   1 376  15   7]\n",
      " [  0  10  20 352  14]\n",
      " [  6   1  18  62 277]]\n"
     ]
    },
    {
     "data": {
      "image/png": "[encoded data removed]",
      "text/plain": [
       "<Figure size 432x288 with 2 Axes>"
      ]
     },
     "metadata": {
      "needs_background": "light"
     },
     "output_type": "display_data"
    }
   ],
   "source": [
    "plot_confusion_matrix(newsgroups_test.target,nb_test_preds,classes = label_names);"
   ]
  },
  {
   "cell_type": "code",
   "execution_count": null,
   "metadata": {},
   "outputs": [],
   "source": [
    "sklearn.metrics.confusion_matrix(nb_test_preds, newsgroups_test.target)"
   ]
  },
  {
   "cell_type": "markdown",
   "metadata": {},
   "source": [
    "### Interpreting Results\n",
    "\n",
    "**_Question:_** Interpret the results seen above. How well did the models do? How do they compare to random guessing? How would you describe the quality of the model fit?\n",
    "\n",
    "Write your answer below this line:\n",
    "_______________________________________________________________________________________________________________________________\n",
    "\n",
    "\n",
    "\n",
    "# Summary\n",
    "\n",
    "In this lab, we used our NLP skills to clean, preprocess, explore, and fit models to text data for classification. This wasn't easy--great job!!"
   ]
  }
 ],
 "metadata": {
  "kernelspec": {
   "display_name": "Python 3",
   "language": "python",
   "name": "python3"
  },
  "language_info": {
   "codemirror_mode": {
    "name": "ipython",
    "version": 3
   },
   "file_extension": ".py",
   "mimetype": "text/x-python",
   "name": "python",
   "nbconvert_exporter": "python",
   "pygments_lexer": "ipython3",
   "version": "3.6.6"
  }
 },
 "nbformat": 4,
 "nbformat_minor": 2
}
